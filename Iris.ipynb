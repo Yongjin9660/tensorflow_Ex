{
  "nbformat": 4,
  "nbformat_minor": 0,
  "metadata": {
    "colab": {
      "name": "Iris.ipynb",
      "provenance": [],
      "collapsed_sections": [],
      "authorship_tag": "ABX9TyMTvVc8gUiml902+Omvq/gN",
      "include_colab_link": true
    },
    "kernelspec": {
      "name": "python3",
      "display_name": "Python 3"
    }
  },
  "cells": [
    {
      "cell_type": "markdown",
      "metadata": {
        "id": "view-in-github",
        "colab_type": "text"
      },
      "source": [
        "<a href=\"https://colab.research.google.com/github/Yongjin9660/tensorflow_Ex/blob/master/Iris.ipynb\" target=\"_parent\"><img src=\"https://colab.research.google.com/assets/colab-badge.svg\" alt=\"Open In Colab\"/></a>"
      ]
    },
    {
      "cell_type": "markdown",
      "metadata": {
        "id": "iIYcTdVfVMdM",
        "colab_type": "text"
      },
      "source": [
        "아이리스 품종 분류\n",
        "github csv url : https://raw.githubusercontent.com/blackdew/tensorflow1/master/csv/iris.csv"
      ]
    },
    {
      "cell_type": "code",
      "metadata": {
        "id": "oV4lvBohVIOD",
        "colab_type": "code",
        "colab": {}
      },
      "source": [
        "#  라이브러리 사용\n",
        "import tensorflow as tf\n",
        "import pandas as pd"
      ],
      "execution_count": 1,
      "outputs": []
    },
    {
      "cell_type": "code",
      "metadata": {
        "id": "p1dqs1MSVbO7",
        "colab_type": "code",
        "colab": {
          "base_uri": "https://localhost:8080/",
          "height": 204
        },
        "outputId": "ccac8ef6-c7aa-4ad2-bcc6-8d5aa978c545"
      },
      "source": [
        "# 1. 과거의 데이터를 준비합니다.\n",
        "아이리스 = pd.read_csv('https://raw.githubusercontent.com/blackdew/tensorflow1/master/csv/iris.csv')\n",
        "아이리스.head()"
      ],
      "execution_count": 2,
      "outputs": [
        {
          "output_type": "execute_result",
          "data": {
            "text/html": [
              "<div>\n",
              "<style scoped>\n",
              "    .dataframe tbody tr th:only-of-type {\n",
              "        vertical-align: middle;\n",
              "    }\n",
              "\n",
              "    .dataframe tbody tr th {\n",
              "        vertical-align: top;\n",
              "    }\n",
              "\n",
              "    .dataframe thead th {\n",
              "        text-align: right;\n",
              "    }\n",
              "</style>\n",
              "<table border=\"1\" class=\"dataframe\">\n",
              "  <thead>\n",
              "    <tr style=\"text-align: right;\">\n",
              "      <th></th>\n",
              "      <th>꽃잎길이</th>\n",
              "      <th>꽃잎폭</th>\n",
              "      <th>꽃받침길이</th>\n",
              "      <th>꽃받침폭</th>\n",
              "      <th>품종</th>\n",
              "    </tr>\n",
              "  </thead>\n",
              "  <tbody>\n",
              "    <tr>\n",
              "      <th>0</th>\n",
              "      <td>5.1</td>\n",
              "      <td>3.5</td>\n",
              "      <td>1.4</td>\n",
              "      <td>0.2</td>\n",
              "      <td>setosa</td>\n",
              "    </tr>\n",
              "    <tr>\n",
              "      <th>1</th>\n",
              "      <td>4.9</td>\n",
              "      <td>3.0</td>\n",
              "      <td>1.4</td>\n",
              "      <td>0.2</td>\n",
              "      <td>setosa</td>\n",
              "    </tr>\n",
              "    <tr>\n",
              "      <th>2</th>\n",
              "      <td>4.7</td>\n",
              "      <td>3.2</td>\n",
              "      <td>1.3</td>\n",
              "      <td>0.2</td>\n",
              "      <td>setosa</td>\n",
              "    </tr>\n",
              "    <tr>\n",
              "      <th>3</th>\n",
              "      <td>4.6</td>\n",
              "      <td>3.1</td>\n",
              "      <td>1.5</td>\n",
              "      <td>0.2</td>\n",
              "      <td>setosa</td>\n",
              "    </tr>\n",
              "    <tr>\n",
              "      <th>4</th>\n",
              "      <td>5.0</td>\n",
              "      <td>3.6</td>\n",
              "      <td>1.4</td>\n",
              "      <td>0.2</td>\n",
              "      <td>setosa</td>\n",
              "    </tr>\n",
              "  </tbody>\n",
              "</table>\n",
              "</div>"
            ],
            "text/plain": [
              "   꽃잎길이  꽃잎폭  꽃받침길이  꽃받침폭      품종\n",
              "0   5.1  3.5    1.4   0.2  setosa\n",
              "1   4.9  3.0    1.4   0.2  setosa\n",
              "2   4.7  3.2    1.3   0.2  setosa\n",
              "3   4.6  3.1    1.5   0.2  setosa\n",
              "4   5.0  3.6    1.4   0.2  setosa"
            ]
          },
          "metadata": {
            "tags": []
          },
          "execution_count": 2
        }
      ]
    },
    {
      "cell_type": "code",
      "metadata": {
        "id": "C5L8kRQiVk3n",
        "colab_type": "code",
        "colab": {
          "base_uri": "https://localhost:8080/",
          "height": 204
        },
        "outputId": "72d2e462-4cc4-409f-a58d-e034a14aaa6c"
      },
      "source": [
        "# 원핫인코딩\n",
        "인코딩 = pd.get_dummies(아이리스)\n",
        "인코딩.head()"
      ],
      "execution_count": 4,
      "outputs": [
        {
          "output_type": "execute_result",
          "data": {
            "text/html": [
              "<div>\n",
              "<style scoped>\n",
              "    .dataframe tbody tr th:only-of-type {\n",
              "        vertical-align: middle;\n",
              "    }\n",
              "\n",
              "    .dataframe tbody tr th {\n",
              "        vertical-align: top;\n",
              "    }\n",
              "\n",
              "    .dataframe thead th {\n",
              "        text-align: right;\n",
              "    }\n",
              "</style>\n",
              "<table border=\"1\" class=\"dataframe\">\n",
              "  <thead>\n",
              "    <tr style=\"text-align: right;\">\n",
              "      <th></th>\n",
              "      <th>꽃잎길이</th>\n",
              "      <th>꽃잎폭</th>\n",
              "      <th>꽃받침길이</th>\n",
              "      <th>꽃받침폭</th>\n",
              "      <th>품종_setosa</th>\n",
              "      <th>품종_versicolor</th>\n",
              "      <th>품종_virginica</th>\n",
              "    </tr>\n",
              "  </thead>\n",
              "  <tbody>\n",
              "    <tr>\n",
              "      <th>0</th>\n",
              "      <td>5.1</td>\n",
              "      <td>3.5</td>\n",
              "      <td>1.4</td>\n",
              "      <td>0.2</td>\n",
              "      <td>1</td>\n",
              "      <td>0</td>\n",
              "      <td>0</td>\n",
              "    </tr>\n",
              "    <tr>\n",
              "      <th>1</th>\n",
              "      <td>4.9</td>\n",
              "      <td>3.0</td>\n",
              "      <td>1.4</td>\n",
              "      <td>0.2</td>\n",
              "      <td>1</td>\n",
              "      <td>0</td>\n",
              "      <td>0</td>\n",
              "    </tr>\n",
              "    <tr>\n",
              "      <th>2</th>\n",
              "      <td>4.7</td>\n",
              "      <td>3.2</td>\n",
              "      <td>1.3</td>\n",
              "      <td>0.2</td>\n",
              "      <td>1</td>\n",
              "      <td>0</td>\n",
              "      <td>0</td>\n",
              "    </tr>\n",
              "    <tr>\n",
              "      <th>3</th>\n",
              "      <td>4.6</td>\n",
              "      <td>3.1</td>\n",
              "      <td>1.5</td>\n",
              "      <td>0.2</td>\n",
              "      <td>1</td>\n",
              "      <td>0</td>\n",
              "      <td>0</td>\n",
              "    </tr>\n",
              "    <tr>\n",
              "      <th>4</th>\n",
              "      <td>5.0</td>\n",
              "      <td>3.6</td>\n",
              "      <td>1.4</td>\n",
              "      <td>0.2</td>\n",
              "      <td>1</td>\n",
              "      <td>0</td>\n",
              "      <td>0</td>\n",
              "    </tr>\n",
              "  </tbody>\n",
              "</table>\n",
              "</div>"
            ],
            "text/plain": [
              "   꽃잎길이  꽃잎폭  꽃받침길이  꽃받침폭  품종_setosa  품종_versicolor  품종_virginica\n",
              "0   5.1  3.5    1.4   0.2          1              0             0\n",
              "1   4.9  3.0    1.4   0.2          1              0             0\n",
              "2   4.7  3.2    1.3   0.2          1              0             0\n",
              "3   4.6  3.1    1.5   0.2          1              0             0\n",
              "4   5.0  3.6    1.4   0.2          1              0             0"
            ]
          },
          "metadata": {
            "tags": []
          },
          "execution_count": 4
        }
      ]
    },
    {
      "cell_type": "code",
      "metadata": {
        "id": "YQUnVUy8VzLe",
        "colab_type": "code",
        "colab": {
          "base_uri": "https://localhost:8080/",
          "height": 71
        },
        "outputId": "d747b6e8-16cf-418c-e7e1-e1b2c504c7ab"
      },
      "source": [
        "print(인코딩.columns)"
      ],
      "execution_count": 5,
      "outputs": [
        {
          "output_type": "stream",
          "text": [
            "Index(['꽃잎길이', '꽃잎폭', '꽃받침길이', '꽃받침폭', '품종_setosa', '품종_versicolor',\n",
            "       '품종_virginica'],\n",
            "      dtype='object')\n"
          ],
          "name": "stdout"
        }
      ]
    },
    {
      "cell_type": "code",
      "metadata": {
        "id": "nidkGkglWA5C",
        "colab_type": "code",
        "colab": {
          "base_uri": "https://localhost:8080/",
          "height": 35
        },
        "outputId": "e22b5c02-a99a-4073-d2f7-521091e6e602"
      },
      "source": [
        "# 독립변수, 종속변수\n",
        "독립 = 인코딩[['꽃잎길이', '꽃잎폭', '꽃받침길이', '꽃받침폭']]\n",
        "종속 = 인코딩[['품종_setosa', '품종_versicolor', '품종_virginica']]\n",
        "print(독립.shape, 종속.shape)"
      ],
      "execution_count": 6,
      "outputs": [
        {
          "output_type": "stream",
          "text": [
            "(150, 4) (150, 3)\n"
          ],
          "name": "stdout"
        }
      ]
    },
    {
      "cell_type": "code",
      "metadata": {
        "id": "4eIhVs7TWPUj",
        "colab_type": "code",
        "colab": {}
      },
      "source": [
        "# 2. 모델의 구조를 만듭니다\n",
        "X = tf.keras.layers.Input(shape=[4])\n",
        "Y = tf.keras.layers.Dense(3, activation='softmax')(X)\n",
        "model = tf.keras.models.Model(X, Y)\n",
        "model.compile(loss='categorical_crossentropy',\n",
        "              metrics='accuracy')"
      ],
      "execution_count": 12,
      "outputs": []
    },
    {
      "cell_type": "code",
      "metadata": {
        "id": "cu2gFJDGWjtu",
        "colab_type": "code",
        "colab": {
          "base_uri": "https://localhost:8080/",
          "height": 1000
        },
        "outputId": "a8ba7b52-da0e-4a3c-d713-381c82186ea5"
      },
      "source": [
        "# 3. 데이터로 모델을 학습(FIT)합니다.\n",
        "model.fit(독립, 종속, epochs=100)"
      ],
      "execution_count": 13,
      "outputs": [
        {
          "output_type": "stream",
          "text": [
            "Epoch 1/100\n",
            "5/5 [==============================] - 0s 3ms/step - loss: 4.7418 - accuracy: 0.3333\n",
            "Epoch 2/100\n",
            "5/5 [==============================] - 0s 3ms/step - loss: 4.5712 - accuracy: 0.3333\n",
            "Epoch 3/100\n",
            "5/5 [==============================] - 0s 2ms/step - loss: 4.4458 - accuracy: 0.3333\n",
            "Epoch 4/100\n",
            "5/5 [==============================] - 0s 4ms/step - loss: 4.3295 - accuracy: 0.3333\n",
            "Epoch 5/100\n",
            "5/5 [==============================] - 0s 3ms/step - loss: 4.2223 - accuracy: 0.3333\n",
            "Epoch 6/100\n",
            "5/5 [==============================] - 0s 3ms/step - loss: 4.1193 - accuracy: 0.3333\n",
            "Epoch 7/100\n",
            "5/5 [==============================] - 0s 2ms/step - loss: 4.0237 - accuracy: 0.3333\n",
            "Epoch 8/100\n",
            "5/5 [==============================] - 0s 2ms/step - loss: 3.9269 - accuracy: 0.3333\n",
            "Epoch 9/100\n",
            "5/5 [==============================] - 0s 2ms/step - loss: 3.8311 - accuracy: 0.3333\n",
            "Epoch 10/100\n",
            "5/5 [==============================] - 0s 2ms/step - loss: 3.7379 - accuracy: 0.3333\n",
            "Epoch 11/100\n",
            "5/5 [==============================] - 0s 2ms/step - loss: 3.6455 - accuracy: 0.3333\n",
            "Epoch 12/100\n",
            "5/5 [==============================] - 0s 2ms/step - loss: 3.5563 - accuracy: 0.3333\n",
            "Epoch 13/100\n",
            "5/5 [==============================] - 0s 2ms/step - loss: 3.4694 - accuracy: 0.3333\n",
            "Epoch 14/100\n",
            "5/5 [==============================] - 0s 3ms/step - loss: 3.3861 - accuracy: 0.3333\n",
            "Epoch 15/100\n",
            "5/5 [==============================] - 0s 2ms/step - loss: 3.3049 - accuracy: 0.3333\n",
            "Epoch 16/100\n",
            "5/5 [==============================] - 0s 2ms/step - loss: 3.2258 - accuracy: 0.3333\n",
            "Epoch 17/100\n",
            "5/5 [==============================] - 0s 2ms/step - loss: 3.1485 - accuracy: 0.3333\n",
            "Epoch 18/100\n",
            "5/5 [==============================] - 0s 2ms/step - loss: 3.0763 - accuracy: 0.3333\n",
            "Epoch 19/100\n",
            "5/5 [==============================] - 0s 3ms/step - loss: 3.0050 - accuracy: 0.3333\n",
            "Epoch 20/100\n",
            "5/5 [==============================] - 0s 2ms/step - loss: 2.9384 - accuracy: 0.3333\n",
            "Epoch 21/100\n",
            "5/5 [==============================] - 0s 2ms/step - loss: 2.8781 - accuracy: 0.3333\n",
            "Epoch 22/100\n",
            "5/5 [==============================] - 0s 2ms/step - loss: 2.8186 - accuracy: 0.3333\n",
            "Epoch 23/100\n",
            "5/5 [==============================] - 0s 2ms/step - loss: 2.7612 - accuracy: 0.3333\n",
            "Epoch 24/100\n",
            "5/5 [==============================] - 0s 2ms/step - loss: 2.7058 - accuracy: 0.3267\n",
            "Epoch 25/100\n",
            "5/5 [==============================] - 0s 2ms/step - loss: 2.6523 - accuracy: 0.3267\n",
            "Epoch 26/100\n",
            "5/5 [==============================] - 0s 2ms/step - loss: 2.6012 - accuracy: 0.3000\n",
            "Epoch 27/100\n",
            "5/5 [==============================] - 0s 2ms/step - loss: 2.5535 - accuracy: 0.2933\n",
            "Epoch 28/100\n",
            "5/5 [==============================] - 0s 2ms/step - loss: 2.5065 - accuracy: 0.2667\n",
            "Epoch 29/100\n",
            "5/5 [==============================] - 0s 2ms/step - loss: 2.4603 - accuracy: 0.2533\n",
            "Epoch 30/100\n",
            "5/5 [==============================] - 0s 2ms/step - loss: 2.4146 - accuracy: 0.2067\n",
            "Epoch 31/100\n",
            "5/5 [==============================] - 0s 2ms/step - loss: 2.3695 - accuracy: 0.1867\n",
            "Epoch 32/100\n",
            "5/5 [==============================] - 0s 2ms/step - loss: 2.3265 - accuracy: 0.1467\n",
            "Epoch 33/100\n",
            "5/5 [==============================] - 0s 1ms/step - loss: 2.2832 - accuracy: 0.1333\n",
            "Epoch 34/100\n",
            "5/5 [==============================] - 0s 2ms/step - loss: 2.2407 - accuracy: 0.1067\n",
            "Epoch 35/100\n",
            "5/5 [==============================] - 0s 3ms/step - loss: 2.2010 - accuracy: 0.0667\n",
            "Epoch 36/100\n",
            "5/5 [==============================] - 0s 2ms/step - loss: 2.1613 - accuracy: 0.0467\n",
            "Epoch 37/100\n",
            "5/5 [==============================] - 0s 2ms/step - loss: 2.1236 - accuracy: 0.0267\n",
            "Epoch 38/100\n",
            "5/5 [==============================] - 0s 2ms/step - loss: 2.0850 - accuracy: 0.0267\n",
            "Epoch 39/100\n",
            "5/5 [==============================] - 0s 2ms/step - loss: 2.0491 - accuracy: 0.0200\n",
            "Epoch 40/100\n",
            "5/5 [==============================] - 0s 2ms/step - loss: 2.0152 - accuracy: 0.0200\n",
            "Epoch 41/100\n",
            "5/5 [==============================] - 0s 3ms/step - loss: 1.9809 - accuracy: 0.0467\n",
            "Epoch 42/100\n",
            "5/5 [==============================] - 0s 2ms/step - loss: 1.9489 - accuracy: 0.0600\n",
            "Epoch 43/100\n",
            "5/5 [==============================] - 0s 2ms/step - loss: 1.9190 - accuracy: 0.0267\n",
            "Epoch 44/100\n",
            "5/5 [==============================] - 0s 2ms/step - loss: 1.8890 - accuracy: 0.0733\n",
            "Epoch 45/100\n",
            "5/5 [==============================] - 0s 2ms/step - loss: 1.8613 - accuracy: 0.0867\n",
            "Epoch 46/100\n",
            "5/5 [==============================] - 0s 2ms/step - loss: 1.8352 - accuracy: 0.1400\n",
            "Epoch 47/100\n",
            "5/5 [==============================] - 0s 2ms/step - loss: 1.8110 - accuracy: 0.1467\n",
            "Epoch 48/100\n",
            "5/5 [==============================] - 0s 2ms/step - loss: 1.7848 - accuracy: 0.1467\n",
            "Epoch 49/100\n",
            "5/5 [==============================] - 0s 2ms/step - loss: 1.7638 - accuracy: 0.1400\n",
            "Epoch 50/100\n",
            "5/5 [==============================] - 0s 1ms/step - loss: 1.7416 - accuracy: 0.1667\n",
            "Epoch 51/100\n",
            "5/5 [==============================] - 0s 2ms/step - loss: 1.7232 - accuracy: 0.1533\n",
            "Epoch 52/100\n",
            "5/5 [==============================] - 0s 2ms/step - loss: 1.7029 - accuracy: 0.2267\n",
            "Epoch 53/100\n",
            "5/5 [==============================] - 0s 2ms/step - loss: 1.6839 - accuracy: 0.2067\n",
            "Epoch 54/100\n",
            "5/5 [==============================] - 0s 2ms/step - loss: 1.6654 - accuracy: 0.2267\n",
            "Epoch 55/100\n",
            "5/5 [==============================] - 0s 2ms/step - loss: 1.6498 - accuracy: 0.2267\n",
            "Epoch 56/100\n",
            "5/5 [==============================] - 0s 2ms/step - loss: 1.6337 - accuracy: 0.2267\n",
            "Epoch 57/100\n",
            "5/5 [==============================] - 0s 2ms/step - loss: 1.6183 - accuracy: 0.2333\n",
            "Epoch 58/100\n",
            "5/5 [==============================] - 0s 2ms/step - loss: 1.6021 - accuracy: 0.2267\n",
            "Epoch 59/100\n",
            "5/5 [==============================] - 0s 1ms/step - loss: 1.5886 - accuracy: 0.2333\n",
            "Epoch 60/100\n",
            "5/5 [==============================] - 0s 2ms/step - loss: 1.5734 - accuracy: 0.2467\n",
            "Epoch 61/100\n",
            "5/5 [==============================] - 0s 2ms/step - loss: 1.5611 - accuracy: 0.2667\n",
            "Epoch 62/100\n",
            "5/5 [==============================] - 0s 2ms/step - loss: 1.5473 - accuracy: 0.2667\n",
            "Epoch 63/100\n",
            "5/5 [==============================] - 0s 2ms/step - loss: 1.5354 - accuracy: 0.2800\n",
            "Epoch 64/100\n",
            "5/5 [==============================] - 0s 2ms/step - loss: 1.5231 - accuracy: 0.2867\n",
            "Epoch 65/100\n",
            "5/5 [==============================] - 0s 2ms/step - loss: 1.5101 - accuracy: 0.3000\n",
            "Epoch 66/100\n",
            "5/5 [==============================] - 0s 2ms/step - loss: 1.4976 - accuracy: 0.2867\n",
            "Epoch 67/100\n",
            "5/5 [==============================] - 0s 2ms/step - loss: 1.4850 - accuracy: 0.3067\n",
            "Epoch 68/100\n",
            "5/5 [==============================] - 0s 2ms/step - loss: 1.4724 - accuracy: 0.2800\n",
            "Epoch 69/100\n",
            "5/5 [==============================] - 0s 2ms/step - loss: 1.4608 - accuracy: 0.3200\n",
            "Epoch 70/100\n",
            "5/5 [==============================] - 0s 2ms/step - loss: 1.4493 - accuracy: 0.3000\n",
            "Epoch 71/100\n",
            "5/5 [==============================] - 0s 2ms/step - loss: 1.4361 - accuracy: 0.3200\n",
            "Epoch 72/100\n",
            "5/5 [==============================] - 0s 2ms/step - loss: 1.4258 - accuracy: 0.3333\n",
            "Epoch 73/100\n",
            "5/5 [==============================] - 0s 2ms/step - loss: 1.4137 - accuracy: 0.3333\n",
            "Epoch 74/100\n",
            "5/5 [==============================] - 0s 2ms/step - loss: 1.4022 - accuracy: 0.3267\n",
            "Epoch 75/100\n",
            "5/5 [==============================] - 0s 2ms/step - loss: 1.3910 - accuracy: 0.3267\n",
            "Epoch 76/100\n",
            "5/5 [==============================] - 0s 2ms/step - loss: 1.3800 - accuracy: 0.3267\n",
            "Epoch 77/100\n",
            "5/5 [==============================] - 0s 2ms/step - loss: 1.3688 - accuracy: 0.3267\n",
            "Epoch 78/100\n",
            "5/5 [==============================] - 0s 2ms/step - loss: 1.3577 - accuracy: 0.3400\n",
            "Epoch 79/100\n",
            "5/5 [==============================] - 0s 2ms/step - loss: 1.3484 - accuracy: 0.3467\n",
            "Epoch 80/100\n",
            "5/5 [==============================] - 0s 2ms/step - loss: 1.3361 - accuracy: 0.3467\n",
            "Epoch 81/100\n",
            "5/5 [==============================] - 0s 2ms/step - loss: 1.3256 - accuracy: 0.3467\n",
            "Epoch 82/100\n",
            "5/5 [==============================] - 0s 2ms/step - loss: 1.3144 - accuracy: 0.3400\n",
            "Epoch 83/100\n",
            "5/5 [==============================] - 0s 2ms/step - loss: 1.3030 - accuracy: 0.3533\n",
            "Epoch 84/100\n",
            "5/5 [==============================] - 0s 2ms/step - loss: 1.2942 - accuracy: 0.3467\n",
            "Epoch 85/100\n",
            "5/5 [==============================] - 0s 2ms/step - loss: 1.2828 - accuracy: 0.3400\n",
            "Epoch 86/100\n",
            "5/5 [==============================] - 0s 2ms/step - loss: 1.2718 - accuracy: 0.3533\n",
            "Epoch 87/100\n",
            "5/5 [==============================] - 0s 2ms/step - loss: 1.2611 - accuracy: 0.3533\n",
            "Epoch 88/100\n",
            "5/5 [==============================] - 0s 2ms/step - loss: 1.2519 - accuracy: 0.3600\n",
            "Epoch 89/100\n",
            "5/5 [==============================] - 0s 2ms/step - loss: 1.2409 - accuracy: 0.3667\n",
            "Epoch 90/100\n",
            "5/5 [==============================] - 0s 2ms/step - loss: 1.2301 - accuracy: 0.3600\n",
            "Epoch 91/100\n",
            "5/5 [==============================] - 0s 2ms/step - loss: 1.2203 - accuracy: 0.3600\n",
            "Epoch 92/100\n",
            "5/5 [==============================] - 0s 1ms/step - loss: 1.2106 - accuracy: 0.3733\n",
            "Epoch 93/100\n",
            "5/5 [==============================] - 0s 2ms/step - loss: 1.2007 - accuracy: 0.3667\n",
            "Epoch 94/100\n",
            "5/5 [==============================] - 0s 2ms/step - loss: 1.1912 - accuracy: 0.3667\n",
            "Epoch 95/100\n",
            "5/5 [==============================] - 0s 1ms/step - loss: 1.1803 - accuracy: 0.3667\n",
            "Epoch 96/100\n",
            "5/5 [==============================] - 0s 2ms/step - loss: 1.1704 - accuracy: 0.3667\n",
            "Epoch 97/100\n",
            "5/5 [==============================] - 0s 2ms/step - loss: 1.1602 - accuracy: 0.3667\n",
            "Epoch 98/100\n",
            "5/5 [==============================] - 0s 2ms/step - loss: 1.1503 - accuracy: 0.3800\n",
            "Epoch 99/100\n",
            "5/5 [==============================] - 0s 2ms/step - loss: 1.1409 - accuracy: 0.3867\n",
            "Epoch 100/100\n",
            "5/5 [==============================] - 0s 2ms/step - loss: 1.1312 - accuracy: 0.3933\n"
          ],
          "name": "stdout"
        },
        {
          "output_type": "execute_result",
          "data": {
            "text/plain": [
              "<tensorflow.python.keras.callbacks.History at 0x7fab1be89828>"
            ]
          },
          "metadata": {
            "tags": []
          },
          "execution_count": 13
        }
      ]
    },
    {
      "cell_type": "code",
      "metadata": {
        "id": "1hot3xVWWy-O",
        "colab_type": "code",
        "colab": {
          "base_uri": "https://localhost:8080/",
          "height": 107
        },
        "outputId": "9918c383-0650-4eb4-c881-5051d3d051ca"
      },
      "source": [
        "# 모델을 이용합니다.\n",
        "model.predict(독립[0:5])"
      ],
      "execution_count": 14,
      "outputs": [
        {
          "output_type": "execute_result",
          "data": {
            "text/plain": [
              "array([[0.27587408, 0.15717244, 0.5669534 ],\n",
              "       [0.29803577, 0.208606  , 0.49335814],\n",
              "       [0.27709362, 0.17046387, 0.5524425 ],\n",
              "       [0.30982623, 0.18941988, 0.5007539 ],\n",
              "       [0.2709071 , 0.14348124, 0.58561164]], dtype=float32)"
            ]
          },
          "metadata": {
            "tags": []
          },
          "execution_count": 14
        }
      ]
    },
    {
      "cell_type": "code",
      "metadata": {
        "id": "b9BwvhTYXEQ-",
        "colab_type": "code",
        "colab": {
          "base_uri": "https://localhost:8080/",
          "height": 125
        },
        "outputId": "544d1c79-b63c-4e16-91ec-824f73d5363b"
      },
      "source": [
        "print(종속[0:5])"
      ],
      "execution_count": 15,
      "outputs": [
        {
          "output_type": "stream",
          "text": [
            "   품종_setosa  품종_versicolor  품종_virginica\n",
            "0          1              0             0\n",
            "1          1              0             0\n",
            "2          1              0             0\n",
            "3          1              0             0\n",
            "4          1              0             0\n"
          ],
          "name": "stdout"
        }
      ]
    },
    {
      "cell_type": "code",
      "metadata": {
        "id": "DrImSReeXJAh",
        "colab_type": "code",
        "colab": {
          "base_uri": "https://localhost:8080/",
          "height": 107
        },
        "outputId": "ce54d734-72b6-4b6c-c1ee-9ff54944f954"
      },
      "source": [
        "# 학습한 가중치\n",
        "model.get_weights()"
      ],
      "execution_count": 16,
      "outputs": [
        {
          "output_type": "execute_result",
          "data": {
            "text/plain": [
              "[array([[ 0.649508  ,  0.87667596,  0.59746444],\n",
              "        [-0.41404077, -0.91657764,  0.0393984 ],\n",
              "        [ 0.43339923,  0.2646515 , -0.41535357],\n",
              "        [-1.3943659 , -0.7150074 ,  0.52114856]], dtype=float32),\n",
              " array([-0.08926431,  0.04883209,  0.11460413], dtype=float32)]"
            ]
          },
          "metadata": {
            "tags": []
          },
          "execution_count": 16
        }
      ]
    },
    {
      "cell_type": "code",
      "metadata": {
        "id": "o4nicA9HXW2e",
        "colab_type": "code",
        "colab": {}
      },
      "source": [
        ""
      ],
      "execution_count": null,
      "outputs": []
    }
  ]
}